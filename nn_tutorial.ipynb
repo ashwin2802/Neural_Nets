{
  "nbformat": 4,
  "nbformat_minor": 0,
  "metadata": {
    "colab": {
      "name": "nn_tutorial.ipynb",
      "version": "0.3.2",
      "provenance": [],
      "collapsed_sections": [],
      "include_colab_link": true
    },
    "kernelspec": {
      "name": "python3",
      "display_name": "Python 3"
    }
  },
  "cells": [
    {
      "cell_type": "markdown",
      "metadata": {
        "id": "view-in-github",
        "colab_type": "text"
      },
      "source": [
        "<a href=\"https://colab.research.google.com/github/ashwin2802/Neural_Nets/blob/master/nn_tutorial.ipynb\" target=\"_parent\"><img src=\"https://colab.research.google.com/assets/colab-badge.svg\" alt=\"Open In Colab\"/></a>"
      ]
    },
    {
      "metadata": {
        "id": "jcCY6vzBgFPw",
        "colab_type": "code",
        "colab": {}
      },
      "cell_type": "code",
      "source": [
        "#import matplotlib\n",
        "import matplotlib.pyplot as plt \n",
        "\n",
        "#import keras libraries\n",
        "from keras.utils import to_categorical\n",
        "from keras.models import Sequential\n",
        "from keras.layers import Dense, Conv2D, Flatten\n",
        "\n",
        "#import the MNIST database\n",
        "from keras.datasets import mnist\n",
        "\n",
        "#download MNIST data and split it into training and testing sets\n",
        "(X_train,y_train), (X_test, y_test) = mnist.load_data()\n",
        "\n",
        "#show the first image of the training set\n",
        "plt.imshow(X_train[0])\n",
        "\n",
        "#check shape of plotted image\n",
        "X_train[0].shape\n",
        "\n",
        "#reshape data to fit the model\n",
        "X_train = X_train.reshape(60000,28,28,1)\n",
        "X_test = X_test.reshape(10000, 28, 28,1)\n",
        "\n",
        "#one-hot encode target columns\n",
        "y_train = to_categorical(y_train)\n",
        "y_test = to_categorical(y_test)\n",
        "\n",
        "#show an example target column\n",
        "y_train[0]\n",
        "\n",
        "#create the model\n",
        "model = Sequential()\n",
        "\n",
        "#add layers to the model\n",
        "model.add(Conv2D(64, kernel_size = 3, activation = 'relu', input_shape=(28,28,1)))\n",
        "model.add(Conv2D(32, kernel_size = 3, activation = 'relu'))\n",
        "model.add(Flatten())\n",
        "model.add(Dense(10, activation='softmax'))\n",
        "\n",
        "#compile the model using accuracy to measure performance\n",
        "model.compile(optimizer = 'adam', loss = 'categorical_crossentropy', metrics=['accuracy'])\n",
        "\n",
        "#train the model\n",
        "model.fit(X_train, y_train, validation_data=(X_test, y_test), epochs=3)\n",
        "\n",
        "#predict the fifth image label in the test set\n",
        "model.predict(X_test[:4])\n",
        "\n",
        "#compare prediction with actual results\n",
        "y_test[:4]"
      ],
      "execution_count": 0,
      "outputs": []
    }
  ]
}